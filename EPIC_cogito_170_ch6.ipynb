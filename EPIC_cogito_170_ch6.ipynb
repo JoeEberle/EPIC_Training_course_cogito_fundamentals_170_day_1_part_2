{
 "cells": [
  {
   "cell_type": "markdown",
   "id": "237aab5c",
   "metadata": {},
   "source": [
    "# EPIC_cogito_170_ch6 - Workbench Reports\n",
    "\n",
    "## EPIC Training course cogito fundamentals 170 chapter 6\n",
    "#### Student: Joe Eberle started on 10_08_2024 - https://github.com/JoeEberle/ - josepheberle@outlook.com\n",
    "#### Access: Joe_Eberle \n",
    "#### https://userweb.epic.com/"
   ]
  },
  {
   "cell_type": "code",
   "execution_count": 1,
   "id": "deffe246",
   "metadata": {},
   "outputs": [
    {
     "name": "stdout",
     "output_type": "stream",
     "text": [
      "Libraries Imported succesfully on 2024-12-23 at 10:06:22.795219\n"
     ]
    },
    {
     "name": "stderr",
     "output_type": "stream",
     "text": [
      "C:\\Users\\jxe0313\\AppData\\Roaming\\Python\\Python311\\site-packages\\pandas\\core\\arrays\\masked.py:60: UserWarning: Pandas requires version '1.3.6' or newer of 'bottleneck' (version '1.3.5' currently installed).\n",
      "  from pandas.core import (\n"
     ]
    }
   ],
   "source": [
    "import os\n",
    "import schedule\n",
    "from datetime import datetime\n",
    "import pandas as pd \n",
    "import quick_logger as ql\n",
    "import talking_code as tc \n",
    "import file_manager as fm \n",
    "import time\n",
    "from IPython.display import Markdown, display, Image\n",
    "print(f\"Libraries Imported succesfully on {datetime.now().date()} at {datetime.now().time()}\") "
   ]
  },
  {
   "cell_type": "markdown",
   "id": "7d7f1918-fc06-4335-81bc-17557136ddcd",
   "metadata": {},
   "source": [
    "#### Required Setup Step 0 - Intitiate Configuration Settings and name the overall solution"
   ]
  },
  {
   "cell_type": "code",
   "execution_count": 2,
   "id": "a1984f04-117f-4dc5-98e9-9c701b3e3a4c",
   "metadata": {},
   "outputs": [],
   "source": [
    "import configparser \n",
    "config = configparser.ConfigParser()\n",
    "cfg = config.read('config.ini')  \n",
    "solution_name = 'EPIC_cogito_170_ch6'"
   ]
  },
  {
   "cell_type": "markdown",
   "id": "092cdb4f-95e5-4d0b-9435-f60b3f117f8b",
   "metadata": {},
   "source": [
    "#### Required Setup Step 0 - Intitiate Logging and debugging "
   ]
  },
  {
   "cell_type": "code",
   "execution_count": 3,
   "id": "73f3ad24-ff3d-4ba7-84aa-944105fef0f0",
   "metadata": {},
   "outputs": [
    {
     "name": "stdout",
     "output_type": "stream",
     "text": [
      "Process EPIC_cogito_170_ch6 Step 0 - Initializing and starting Logging Process.\n"
     ]
    }
   ],
   "source": [
    "# Establish the Python Logger  \n",
    "import logging # built in python library that does not need to be installed \n",
    "import quick_logger as ql\n",
    "\n",
    "global start_stime \n",
    "start_time = ql.set_start_time()\n",
    "logging = ql.create_logger_start(solution_name, start_time) \n",
    "ql.set_speaking_log(False)\n",
    "ql.set_speaking_steps(False)\n",
    "ql.pvlog('info',f'Process {solution_name} Step 0 - Initializing and starting Logging Process.') "
   ]
  },
  {
   "cell_type": "code",
   "execution_count": 4,
   "id": "91fcbc30-82d5-4a62-99ef-370952ef7869",
   "metadata": {},
   "outputs": [
    {
     "data": {
      "text/markdown": [
       "\n",
       "## Chapter 6 - Creating Workbench Reports\n",
       "\n"
      ],
      "text/plain": [
       "<IPython.core.display.Markdown object>"
      ]
     },
     "metadata": {},
     "output_type": "display_data"
    }
   ],
   "source": [
    "definition = '''\n",
    "## Chapter 6 - Creating Workbench Reports\n",
    "\n",
    "''' \n",
    "# Write the solution defitions out to the solution_description.md file\n",
    "file_name = \"solution_description.md\"\n",
    "with open(file_name, 'w',  encoding='utf-8') as f:\n",
    "    # Write the template to the readme.md file\n",
    "     f.write(definition)\n",
    "\n",
    "display(Markdown(definition))   "
   ]
  },
  {
   "cell_type": "code",
   "execution_count": 5,
   "id": "96f42473",
   "metadata": {},
   "outputs": [
    {
     "data": {
      "text/markdown": [
       "\n",
       "## Chapter 6 - Creating Workbench Reports\n",
       "\n",
       " \n",
       "1. Introduction to Workbench Reports\n",
       "2. Creating Workbench Reports\n",
       "    - Reporting Workbench Templates\n",
       "    - Reporting Workbench Reports\n",
       "        - General Tab\n",
       "        - Criteria Tab\n",
       "        - Display Tab\n",
       "3. Reporting Workbench Results\n",
       "4. Reporting Workbench Links on a Dashboard\n",
       "5. Exercise 6‐1: Create a Workbench Report\n",
       "6. Exercise 6‐2: If you have time ‐ Create a Report Listing Component\n",
       "7. Visualizing Workbench Results\n",
       "8. Workbench Visualizations\n",
       "9. Workbench Summaries\n",
       "10. Graph and Table Components\n",
       "11. Exercise 6‐3: Creating a Workbench Summary and Adding it to a Dashboard\n",
       "12. Exercise 6‐4: If you have time ‐ Add a Visualization from the Explore\n",
       "tab to a Dashboard\n",
       "13. Exercise 6‐5: If you have time ‐ Enable Parameters for your Summary\n",
       "\n"
      ],
      "text/plain": [
       "<IPython.core.display.Markdown object>"
      ]
     },
     "metadata": {},
     "output_type": "display_data"
    }
   ],
   "source": [
    "definition = '''\n",
    "## Chapter 6 - Creating Workbench Reports\n",
    "\n",
    " \n",
    "1. Introduction to Workbench Reports\n",
    "2. Creating Workbench Reports\n",
    "    - Reporting Workbench Templates\n",
    "    - Reporting Workbench Reports\n",
    "        - General Tab\n",
    "        - Criteria Tab\n",
    "        - Display Tab\n",
    "3. Reporting Workbench Results\n",
    "4. Reporting Workbench Links on a Dashboard\n",
    "5. Exercise 6‐1: Create a Workbench Report\n",
    "6. Exercise 6‐2: If you have time ‐ Create a Report Listing Component\n",
    "7. Visualizing Workbench Results\n",
    "8. Workbench Visualizations\n",
    "9. Workbench Summaries\n",
    "10. Graph and Table Components\n",
    "11. Exercise 6‐3: Creating a Workbench Summary and Adding it to a Dashboard\n",
    "12. Exercise 6‐4: If you have time ‐ Add a Visualization from the Explore\n",
    "tab to a Dashboard\n",
    "13. Exercise 6‐5: If you have time ‐ Enable Parameters for your Summary\n",
    "\n",
    "''' \n",
    "# Write the solution defitions out to the solution_description.md file\n",
    "file_name = \"solution_description.md\"\n",
    "with open(file_name, 'w',  encoding='utf-8') as f:\n",
    "    # Write the template to the readme.md file\n",
    "     f.write(definition)\n",
    "\n",
    "display(Markdown(definition))   "
   ]
  },
  {
   "cell_type": "code",
   "execution_count": 6,
   "id": "7631b079",
   "metadata": {},
   "outputs": [
    {
     "data": {
      "text/markdown": [
       "\n",
       " \n",
       "##  Introduction to Workbench Reports\n",
       " \n",
       "Some report requests require real‐time data and a greater level of flexibility and customization. \n",
       "\n",
       "Cogito's **Reporting Workbench tool** that can query Chronicles directly as well as Clarity \n",
       "and Caboodle. Which database is queried depends on the **configuration settings** in the \n",
       "**Workbench template**.\n",
       "\n",
       "By the End of This Lesson, You Will Be Able To...\n",
       "1. Find available Workbench reports and templates in the Analytics Catalog\n",
       "2. Run Workbench reports and view their results\n",
       "3. Use the Explore tab to visualize report results\n",
       "4. Create and modify Workbench reports\n",
       "5. Distribute Workbench content on a dashboard\n",
       "\n"
      ],
      "text/plain": [
       "<IPython.core.display.Markdown object>"
      ]
     },
     "metadata": {},
     "output_type": "display_data"
    }
   ],
   "source": [
    "definition = '''\n",
    " \n",
    "##  Introduction to Workbench Reports\n",
    " \n",
    "Some report requests require real‐time data and a greater level of flexibility and customization. \n",
    "\n",
    "Cogito's **Reporting Workbench tool** that can query Chronicles directly as well as Clarity \n",
    "and Caboodle. Which database is queried depends on the **configuration settings** in the \n",
    "**Workbench template**.\n",
    "\n",
    "By the End of This Lesson, You Will Be Able To...\n",
    "1. Find available Workbench reports and templates in the Analytics Catalog\n",
    "2. Run Workbench reports and view their results\n",
    "3. Use the Explore tab to visualize report results\n",
    "4. Create and modify Workbench reports\n",
    "5. Distribute Workbench content on a dashboard\n",
    "\n",
    "''' \n",
    "# Write the solution defitions out to the solution_description.md file\n",
    "file_name = \"solution_description.md\"\n",
    "with open(file_name, 'w',  encoding='utf-8') as f:\n",
    "    # Write the template to the readme.md file\n",
    "     f.write(definition)\n",
    "\n",
    "display(Markdown(definition))   "
   ]
  },
  {
   "cell_type": "markdown",
   "id": "8fee50c6",
   "metadata": {},
   "source": [
    "## Chapter 6 - Creating Workbench Reports"
   ]
  },
  {
   "cell_type": "code",
   "execution_count": 7,
   "id": "0295c78d",
   "metadata": {},
   "outputs": [
    {
     "data": {
      "text/markdown": [
       "\n",
       "\n",
       "## Creating Workbench Reports\n",
       "\n",
       "The Reporting Workbench framework consists of records in the following **master files**:\n",
       "\n",
       "1. **HGR** ‐ **template records** define the search, criteria, and display options\n",
       "2. **HRX** ‐ **report records** define which criteria, values, and display options will be used\n",
       "3. **HRN** ‐ **run records** are generated each time a report is run\n",
       "4. **HGV** ‐ **visualization records** are graphs saved while viewing the results\n",
       "\n",
       "Epic‐released Workbench reports and templates have entries in the **Report Repository**.\n",
       "\n"
      ],
      "text/plain": [
       "<IPython.core.display.Markdown object>"
      ]
     },
     "metadata": {},
     "output_type": "display_data"
    }
   ],
   "source": [
    "definition = '''\n",
    "\n",
    "## Creating Workbench Reports\n",
    "\n",
    "The Reporting Workbench framework consists of records in the following **master files**:\n",
    "\n",
    "1. **HGR** ‐ **template records** define the search, criteria, and display options\n",
    "2. **HRX** ‐ **report records** define which criteria, values, and display options will be used\n",
    "3. **HRN** ‐ **run records** are generated each time a report is run\n",
    "4. **HGV** ‐ **visualization records** are graphs saved while viewing the results\n",
    "\n",
    "Epic‐released Workbench reports and templates have entries in the **Report Repository**.\n",
    "\n",
    "''' \n",
    "# Write the solution defitions out to the solution_description.md file\n",
    "file_name = \"solution_description.md\"\n",
    "with open(file_name, 'a',  encoding='utf-8') as f:\n",
    "    # Write the template to the readme.md file\n",
    "     f.write(definition)\n",
    "\n",
    "display(Markdown(definition))   "
   ]
  },
  {
   "cell_type": "code",
   "execution_count": 29,
   "id": "de17d3d8",
   "metadata": {},
   "outputs": [
    {
     "data": {
      "text/markdown": [
       "\n",
       "\n",
       "## Reporting Workbench Templates - page 165 \n",
       "\n",
       "The **template** determines what search engine the report will use: \n",
       "1. Ad Hoc\n",
       "2. SQL\n",
       "3. Code template.\n",
       "\n",
       "Templates that use an **Ad Hoc** or **Code template** search engine can search **Chronicles data**. Templates that\n",
       "use a **SQL** search engine begin their search in **Clarity** or **Caboodle**, with the ability to query additional data\n",
       "points drawn from Chronicles.\n",
       "\n",
       "#### Create a Workbench Report from a Template - page 165\n",
       " \n",
       "1. Log in to Hyperspace as Lorena.\n",
       "2. Open the Analytics Catalog.\n",
       "3. Search for the Find Patients – Generic Criteria [17500] template.\n",
       "4. Double‐click the template to create a new report.\n",
       "\n"
      ],
      "text/plain": [
       "<IPython.core.display.Markdown object>"
      ]
     },
     "metadata": {},
     "output_type": "display_data"
    }
   ],
   "source": [
    "definition = '''\n",
    "\n",
    "## Reporting Workbench Templates - page 165 \n",
    "\n",
    "The **template** determines what search engine the report will use: \n",
    "1. Ad Hoc\n",
    "2. SQL\n",
    "3. Code template.\n",
    "\n",
    "Templates that use an **Ad Hoc** or **Code template** search engine can search **Chronicles data**. Templates that\n",
    "use a **SQL** search engine begin their search in **Clarity** or **Caboodle**, with the ability to query additional data\n",
    "points drawn from Chronicles.\n",
    "\n",
    "#### Create a Workbench Report from a Template - page 165\n",
    " \n",
    "1. Log in to Hyperspace as Lorena.\n",
    "2. Open the Analytics Catalog.\n",
    "3. Search for the Find Patients – Generic Criteria [17500] template.\n",
    "4. Double‐click the template to create a new report.\n",
    "\n",
    "''' \n",
    "# Write the solution defitions out to the solution_description.md file\n",
    "file_name = \"solution_description.md\"\n",
    "with open(file_name, 'a',  encoding='utf-8') as f:\n",
    "    # Write the template to the readme.md file\n",
    "     f.write(definition)\n",
    "\n",
    "display(Markdown(definition))   "
   ]
  },
  {
   "cell_type": "code",
   "execution_count": 9,
   "id": "3440d354",
   "metadata": {},
   "outputs": [
    {
     "data": {
      "text/markdown": [
       "\n",
       "\n",
       "## Reporting Workbench Templates\n",
       "\n",
       "Each Workbench report is created from a **template**. All reports from the same template share key\n",
       "characteristics:\n",
       "- The **result granularity**, or the meaning of one row, is defined by the **Workbench template**.\n",
       "- For **Chronicles‐based Workbench templates**, the result granularity will either be records or\n",
       "contacts from a Chronicles master file. The **Search Master File** and **Search On fields** of the\n",
       "template define the **granularity**.\n",
       "- The **data source**, or the database from which Workbench retrieves its result set, is defined by\n",
       "the **Search Engine** setting in the Workbench template.\n",
       "- **Templates** that retrieve only **Chronicles data** will use the **Ad Hoc** search engine or a\n",
       "specialized, **code‐based** search engine.\n",
       "- **Templates** that retrieve data from **Clarity or Caboodle** use a **SQL search engine** to generate a\n",
       "list of results. \n",
       "\n",
       "These templates can optionally use the Ad Hoc search engine to refine the\n",
       "results based on Chronicles data.\n",
       "\n",
       "\n"
      ],
      "text/plain": [
       "<IPython.core.display.Markdown object>"
      ]
     },
     "metadata": {},
     "output_type": "display_data"
    }
   ],
   "source": [
    "definition = '''\n",
    "\n",
    "## Reporting Workbench Templates\n",
    "\n",
    "Each Workbench report is created from a **template**. All reports from the same template share key\n",
    "characteristics:\n",
    "- The **result granularity**, or the meaning of one row, is defined by the **Workbench template**.\n",
    "- For **Chronicles‐based Workbench templates**, the result granularity will either be records or\n",
    "contacts from a Chronicles master file. The **Search Master File** and **Search On fields** of the\n",
    "template define the **granularity**.\n",
    "- The **data source**, or the database from which Workbench retrieves its result set, is defined by\n",
    "the **Search Engine** setting in the Workbench template.\n",
    "- **Templates** that retrieve only **Chronicles data** will use the **Ad Hoc** search engine or a\n",
    "specialized, **code‐based** search engine.\n",
    "- **Templates** that retrieve data from **Clarity or Caboodle** use a **SQL search engine** to generate a\n",
    "list of results. \n",
    "\n",
    "These templates can optionally use the Ad Hoc search engine to refine the\n",
    "results based on Chronicles data.\n",
    "\n",
    "\n",
    "''' \n",
    "# Write the solution defitions out to the solution_description.md file\n",
    "file_name = \"solution_description.md\"\n",
    "with open(file_name, 'a',  encoding='utf-8') as f:\n",
    "    # Write the template to the readme.md file\n",
    "     f.write(definition)\n",
    "\n",
    "display(Markdown(definition))   "
   ]
  },
  {
   "cell_type": "code",
   "execution_count": 28,
   "id": "a78c5063",
   "metadata": {},
   "outputs": [
    {
     "data": {
      "image/png": "[encoded data removed]",
      "text/plain": [
       "<IPython.core.display.Image object>"
      ]
     },
     "metadata": {},
     "output_type": "display_data"
    },
    {
     "data": {
      "text/markdown": [
       "\n",
       "\n",
       "## Reporting Workbench Templates\n",
       "\n",
       "Each Workbench report is created from a **template**. All reports from the same template share key\n",
       "characteristics:\n",
       "- The **result granularity**, or the meaning of one row, is defined by the **Workbench template**.\n",
       "- For **Chronicles‐based Workbench templates**, the result granularity will either be records or\n",
       "contacts from a Chronicles master file. The **Search Master File** and **Search On fields** of the\n",
       "template define the **granularity**.\n",
       "- The **data source**, or the database from which Workbench retrieves its result set, is defined by\n",
       "the **Search Engine** setting in the Workbench template.\n",
       "- **Templates** that retrieve only **Chronicles data** will use the **Ad Hoc** search engine or a\n",
       "specialized, **code‐based** search engine.\n",
       "- **Templates** that retrieve data from **Clarity or Caboodle** use a **SQL search engine** to generate a\n",
       "list of results. \n",
       "\n",
       "These templates can optionally use the Ad Hoc search engine to refine the results based on Chronicles\n",
       "data.\n",
       "\n",
       "**Workbench templates** can be found in the **Analytics Catalog** and can be differentiated from reports by\n",
       "their icon.\n",
       "\n",
       "\n"
      ],
      "text/plain": [
       "<IPython.core.display.Markdown object>"
      ]
     },
     "metadata": {},
     "output_type": "display_data"
    }
   ],
   "source": [
    "definition = '''\n",
    "\n",
    "## Reporting Workbench Templates\n",
    "\n",
    "Each Workbench report is created from a **template**. All reports from the same template share key\n",
    "characteristics:\n",
    "- The **result granularity**, or the meaning of one row, is defined by the **Workbench template**.\n",
    "- For **Chronicles‐based Workbench templates**, the result granularity will either be records or\n",
    "contacts from a Chronicles master file. The **Search Master File** and **Search On fields** of the\n",
    "template define the **granularity**.\n",
    "- The **data source**, or the database from which Workbench retrieves its result set, is defined by\n",
    "the **Search Engine** setting in the Workbench template.\n",
    "- **Templates** that retrieve only **Chronicles data** will use the **Ad Hoc** search engine or a\n",
    "specialized, **code‐based** search engine.\n",
    "- **Templates** that retrieve data from **Clarity or Caboodle** use a **SQL search engine** to generate a\n",
    "list of results. \n",
    "\n",
    "These templates can optionally use the Ad Hoc search engine to refine the results based on Chronicles\n",
    "data.\n",
    "\n",
    "**Workbench templates** can be found in the **Analytics Catalog** and can be differentiated from reports by\n",
    "their icon.\n",
    "\n",
    "\n",
    "''' \n",
    "# Write the solution defitions out to the solution_description.md file\n",
    "file_name = \"solution_description.md\"\n",
    "with open(file_name, 'a',  encoding='utf-8') as f:\n",
    "    # Write the template to the readme.md file\n",
    "     f.write(definition)\n",
    "        \n",
    "        \n",
    "display(Image(filename=\"workbench report icons.png\"))          \n",
    " \n",
    "display(Markdown(definition))   "
   ]
  },
  {
   "cell_type": "code",
   "execution_count": 27,
   "id": "3397ad36",
   "metadata": {},
   "outputs": [
    {
     "data": {
      "text/markdown": [
       "\n",
       "\n",
       "## Reporting Workbench Reports\n",
       "\n",
       "Just as every **SlicerDicer session** is built from an **existing data model**, every **Workbench report** is built\n",
       "from an existing **template**. \n",
       "\n",
       "A **Workbench report** can query **Chronicles, Clarity, or Caboodle** depending on\n",
       "the template used to build the report. \n",
       "\n",
       "The **template** also defines what **criteria**, **display columns**, and **actions** can be taken on the report.\n",
       "\n",
       "To **modify an existing report**, click the **pencil icon** for the report from the **Analytics Catalog.**\n",
       "\n",
       "You can also right‐click and select Edit.\n",
       "\n",
       "To create a **new report** from a **template**, hover over the template and click the create icon\n",
       "or double‐click the template.\n",
       "\n",
       "**Workbench templates** can be found in the **Analytics Catalog** and can be differentiated from reports by\n",
       "their icon.\n",
       "\n",
       "\n"
      ],
      "text/plain": [
       "<IPython.core.display.Markdown object>"
      ]
     },
     "metadata": {},
     "output_type": "display_data"
    }
   ],
   "source": [
    "definition = '''\n",
    "\n",
    "## Reporting Workbench Reports\n",
    "\n",
    "Just as every **SlicerDicer session** is built from an **existing data model**, every **Workbench report** is built\n",
    "from an existing **template**. \n",
    "\n",
    "A **Workbench report** can query **Chronicles, Clarity, or Caboodle** depending on\n",
    "the template used to build the report. \n",
    "\n",
    "The **template** also defines what **criteria**, **display columns**, and **actions** can be taken on the report.\n",
    "\n",
    "To **modify an existing report**, click the **pencil icon** for the report from the **Analytics Catalog.**\n",
    "\n",
    "You can also right‐click and select Edit.\n",
    "\n",
    "To create a **new report** from a **template**, hover over the template and click the create icon\n",
    "or double‐click the template.\n",
    "\n",
    "**Workbench templates** can be found in the **Analytics Catalog** and can be differentiated from reports by\n",
    "their icon.\n",
    "\n",
    "\n",
    "''' \n",
    "# Write the solution defitions out to the solution_description.md file\n",
    "file_name = \"solution_description.md\"\n",
    "with open(file_name, 'a',  encoding='utf-8') as f:\n",
    "    # Write the template to the readme.md file\n",
    "     f.write(definition)\n",
    "\n",
    "display(Markdown(definition))   "
   ]
  },
  {
   "cell_type": "code",
   "execution_count": 12,
   "id": "a723b024",
   "metadata": {},
   "outputs": [
    {
     "data": {
      "text/markdown": [
       "\n",
       "\n",
       "## The following **Report Settings tabs** form the basis of report build:\n",
       "\n",
       "#### Criteria tab \n",
       "\n",
       "**Criteria tab** This tab is used to set the criteria, date range, and logic. It determines which rows\n",
       "will be returned by the report when it is run. With the appropriate security,\n",
       "administrators can add additional criteria that are not available from the\n",
       "template.\n",
       "\n",
       "Date range behavior varies by template. See the Criteria Tab section for more\n",
       "information.\n",
       "\n",
       "#### Display Tab\n",
       "\n",
       "**Display tab** This tab is used to **add or remove display columns** from the report and to add\n",
       "detailed views to the results. With the appropriate security, administrators can add\n",
       "**additional columns** that are not available from the template.\n",
       "\n",
       "Each display column is a PAF record. Its job is to retrieve data and display it on a\n",
       "report.\n",
       "\n",
       "#### Summary tab\n",
       "\n",
       "**Summary tab** This tab is optional and used to **visualize aggregated data** about report results.\n",
       "\n",
       "\n"
      ],
      "text/plain": [
       "<IPython.core.display.Markdown object>"
      ]
     },
     "metadata": {},
     "output_type": "display_data"
    }
   ],
   "source": [
    "definition = '''\n",
    "\n",
    "## The following **Report Settings tabs** form the basis of report build:\n",
    "\n",
    "#### Criteria tab \n",
    "\n",
    "**Criteria tab** This tab is used to set the criteria, date range, and logic. It determines which rows\n",
    "will be returned by the report when it is run. With the appropriate security,\n",
    "administrators can add additional criteria that are not available from the\n",
    "template.\n",
    "\n",
    "Date range behavior varies by template. See the Criteria Tab section for more\n",
    "information.\n",
    "\n",
    "#### Display Tab\n",
    "\n",
    "**Display tab** This tab is used to **add or remove display columns** from the report and to add\n",
    "detailed views to the results. With the appropriate security, administrators can add\n",
    "**additional columns** that are not available from the template.\n",
    "\n",
    "Each display column is a PAF record. Its job is to retrieve data and display it on a\n",
    "report.\n",
    "\n",
    "#### Summary tab\n",
    "\n",
    "**Summary tab** This tab is optional and used to **visualize aggregated data** about report results.\n",
    "\n",
    "\n",
    "''' \n",
    "# Write the solution defitions out to the solution_description.md file\n",
    "file_name = \"solution_description.md\"\n",
    "with open(file_name, 'a',  encoding='utf-8') as f:\n",
    "    # Write the template to the readme.md file\n",
    "     f.write(definition)\n",
    "\n",
    "display(Markdown(definition))   "
   ]
  },
  {
   "cell_type": "code",
   "execution_count": 13,
   "id": "3f90e61e",
   "metadata": {},
   "outputs": [
    {
     "data": {
      "text/markdown": [
       "\n",
       "\n",
       "## Criteria Tab\n",
       "\n",
       "The **criteria tab** controls the search. When creating a new report from a template, some criteria \n",
       "may be selected automatically. These default criteria are set by the template. Additional criteria may be selected by using the search bar at the top of the Report Settings window.\n",
       "Search by keyword and press ENTER or click the magnifying glass to browse the full list.\n",
       "\n",
       "Some administrators will have the security to **add additional criteria** to the list using the **Add\n",
       "Criterion** button at the bottom of this list of criteria. Using this option well typically requires\n",
       "knowledge of the Chronicles database and additional training on Workbench template settings.\n",
       "\n"
      ],
      "text/plain": [
       "<IPython.core.display.Markdown object>"
      ]
     },
     "metadata": {},
     "output_type": "display_data"
    }
   ],
   "source": [
    "definition = '''\n",
    "\n",
    "## Criteria Tab\n",
    "\n",
    "The **criteria tab** controls the search. When creating a new report from a template, some criteria \n",
    "may be selected automatically. These default criteria are set by the template. Additional criteria may be selected by using the search bar at the top of the Report Settings window.\n",
    "Search by keyword and press ENTER or click the magnifying glass to browse the full list.\n",
    "\n",
    "Some administrators will have the security to **add additional criteria** to the list using the **Add\n",
    "Criterion** button at the bottom of this list of criteria. Using this option well typically requires\n",
    "knowledge of the Chronicles database and additional training on Workbench template settings.\n",
    "\n",
    "''' \n",
    "# Write the solution defitions out to the solution_description.md file\n",
    "file_name = \"solution_description.md\"\n",
    "with open(file_name, 'a',  encoding='utf-8') as f:\n",
    "    # Write the template to the readme.md file\n",
    "     f.write(definition)\n",
    "\n",
    "display(Markdown(definition))   "
   ]
  },
  {
   "cell_type": "code",
   "execution_count": 14,
   "id": "30d9ef5f",
   "metadata": {},
   "outputs": [
    {
     "data": {
      "text/markdown": [
       "\n",
       "\n",
       "## Report Logic and Criterion Logic\n",
       "\n",
       "The **default report logic** will be **AND logic**, meaning that all criteria must be met for a row to be returned\n",
       "in the results. Click the AND button to toggle to the OR and CUSTOM options. Custom logic assigns a\n",
       "number to each criteria, which can then be referenced with a logical expression.\n",
       "\n"
      ],
      "text/plain": [
       "<IPython.core.display.Markdown object>"
      ]
     },
     "metadata": {},
     "output_type": "display_data"
    }
   ],
   "source": [
    "definition = '''\n",
    "\n",
    "## Report Logic and Criterion Logic\n",
    "\n",
    "The **default report logic** will be **AND logic**, meaning that all criteria must be met for a row to be returned\n",
    "in the results. Click the AND button to toggle to the OR and CUSTOM options. Custom logic assigns a\n",
    "number to each criteria, which can then be referenced with a logical expression.\n",
    "\n",
    "''' \n",
    "with open(file_name, 'a',  encoding='utf-8') as f:\n",
    "    f.write(definition) # Write the template to the readme.md file\n",
    "    display(Markdown(definition))   "
   ]
  },
  {
   "cell_type": "code",
   "execution_count": 15,
   "id": "6bbfa642",
   "metadata": {},
   "outputs": [
    {
     "data": {
      "text/markdown": [
       "\n",
       "\n",
       "Most **criteria** use **OR logic** by default. Criterion logic can also be toggled by clicking \n",
       "the button until the OR or CUSTOM option appears.\n",
       "\n",
       "For a similar discussion of logic options in SlicerDicer, see the **Criteria section** of the \n",
       "SlicerDicer Populations chapter.\n",
       "\n"
      ],
      "text/plain": [
       "<IPython.core.display.Markdown object>"
      ]
     },
     "metadata": {},
     "output_type": "display_data"
    }
   ],
   "source": [
    "definition = '''\n",
    "\n",
    "Most **criteria** use **OR logic** by default. Criterion logic can also be toggled by clicking \n",
    "the button until the OR or CUSTOM option appears.\n",
    "\n",
    "For a similar discussion of logic options in SlicerDicer, see the **Criteria section** of the \n",
    "SlicerDicer Populations chapter.\n",
    "\n",
    "''' \n",
    "with open(file_name, 'a',  encoding='utf-8') as f:\n",
    "    f.write(definition) # Write the template to the readme.md file\n",
    "    display(Markdown(definition))   "
   ]
  },
  {
   "cell_type": "code",
   "execution_count": 16,
   "id": "593bf7c0",
   "metadata": {},
   "outputs": [
    {
     "data": {
      "text/markdown": [
       "\n",
       "\n",
       "## Date Range\n",
       "\n",
       "There are several ways to evaluate dates in Reporting Workbench. Which options are available depends\n",
       "on the Workbench template settings and the master file being searched.\n",
       "\n",
       "## Default Date Range Behavior\n",
       "The Workbench ad hoc search engine evaluates criteria as it works through the Chronicles hierarchy.\n",
       "1. **Master file**: the Workbench template has one search master file.\n",
       "2. **Records**: the search engine identifies records to include in the search results. It evaluates recordlevel\n",
       "criteria ﴾i.e. criteria based on No Add items﴿ to determine which records to include.\n",
       "3. **Contacts**: the search engine identifies which contacts to include in the search results. It evaluates\n",
       "overtime criteria ﴾i.e. criteria based on overtime items﴿ to determine which contacts to include.\n",
       "\n",
       "The date range found at the top of the **Report Settings window** is used to evaluate time‐sensitive,\n",
       "or **overtime criteria**. **Overtime criteria** can be identified by the clock icon on the Criteria tab.\n",
       "\n",
       "If a Workbench report using the default date range behavior does not include any overtime criteria, the\n",
       "date range will not be used.\n",
       "\n"
      ],
      "text/plain": [
       "<IPython.core.display.Markdown object>"
      ]
     },
     "metadata": {},
     "output_type": "display_data"
    }
   ],
   "source": [
    "definition = '''\n",
    "\n",
    "## Date Range\n",
    "\n",
    "There are several ways to evaluate dates in Reporting Workbench. Which options are available depends\n",
    "on the Workbench template settings and the master file being searched.\n",
    "\n",
    "## Default Date Range Behavior\n",
    "The Workbench ad hoc search engine evaluates criteria as it works through the Chronicles hierarchy.\n",
    "1. **Master file**: the Workbench template has one search master file.\n",
    "2. **Records**: the search engine identifies records to include in the search results. It evaluates recordlevel\n",
    "criteria ﴾i.e. criteria based on No Add items﴿ to determine which records to include.\n",
    "3. **Contacts**: the search engine identifies which contacts to include in the search results. It evaluates\n",
    "overtime criteria ﴾i.e. criteria based on overtime items﴿ to determine which contacts to include.\n",
    "\n",
    "The date range found at the top of the **Report Settings window** is used to evaluate time‐sensitive,\n",
    "or **overtime criteria**. **Overtime criteria** can be identified by the clock icon on the Criteria tab.\n",
    "\n",
    "If a Workbench report using the default date range behavior does not include any overtime criteria, the\n",
    "date range will not be used.\n",
    "\n",
    "''' \n",
    "with open(file_name, 'a',  encoding='utf-8') as f:\n",
    "    f.write(definition) # Write the template to the readme.md file\n",
    "    display(Markdown(definition))   "
   ]
  },
  {
   "cell_type": "code",
   "execution_count": 17,
   "id": "3c95eb22",
   "metadata": {},
   "outputs": [
    {
     "data": {
      "text/markdown": [
       "\n",
       "\n",
       "## Specialized Date Range Behavior\n",
       "\n",
       "Some Workbench templates apply custom date range behavior using specialized M code. For example,\n",
       "the Find Orders [440] template can apply the date range to Order Creation Date, Medication\n",
       "Administration Date, or other dates related to orders. This is similar to the Dates card behaviors present in\n",
       "most SlicerDicer data models.\n",
       "\n",
       "\n"
      ],
      "text/plain": [
       "<IPython.core.display.Markdown object>"
      ]
     },
     "metadata": {},
     "output_type": "display_data"
    }
   ],
   "source": [
    "definition = '''\n",
    "\n",
    "## Specialized Date Range Behavior\n",
    "\n",
    "Some Workbench templates apply custom date range behavior using specialized M code. For example,\n",
    "the Find Orders [440] template can apply the date range to Order Creation Date, Medication\n",
    "Administration Date, or other dates related to orders. This is similar to the Dates card behaviors present in\n",
    "most SlicerDicer data models.\n",
    "\n",
    "\n",
    "''' \n",
    "with open(file_name, 'a',  encoding='utf-8') as f:\n",
    "    f.write(definition) # Write the template to the readme.md file\n",
    "    display(Markdown(definition))   "
   ]
  },
  {
   "cell_type": "code",
   "execution_count": 18,
   "id": "4050020d",
   "metadata": {},
   "outputs": [
    {
     "data": {
      "text/markdown": [
       "\n",
       "\n",
       "## Date Criteria\n",
       "\n",
       "Some items in Chronicles store dates. It is possible to add Workbench criteria to evaluate these dates. For\n",
       "example, the Enrollment Date is an item in the **Episodes ﴾HSB﴿ master file**. A Workbench report could\n",
       "apply a criteria evaluating this item to find all episodes with an enrollment date in the last two weeks.\n",
       "\n",
       "Recall that the template defines what criteria will be available, and therefore what dates can be evaluated\n",
       "as criteria on a given report.\n",
       "\n",
       "For a similar discussion of date options in SlicerDicer, see the Criteria: Advanced Options section of the\n",
       "**SlicerDicer Populations** chapter.\n",
       "\n",
       "**When building a new report**, it is common to test the report by **re‐running** it. Reporting\n",
       "Workbench will rerun a report if there have been any changes to the Criteria, Display, or\n",
       "Summary tab, regardless of the Hours to keep results setting. It’s also possible to run a Trace\n",
       "to force a report to re‐run. The Trace feature is covered in the Troubleshooting lesson.\n",
       "\n",
       "**HRN records** can be saved and even customized by the consumer, but they are ultimately temporary: all\n",
       "HRN records eventually get purged from the system a few months after they expire.\n",
       "\n"
      ],
      "text/plain": [
       "<IPython.core.display.Markdown object>"
      ]
     },
     "metadata": {},
     "output_type": "display_data"
    }
   ],
   "source": [
    "definition = '''\n",
    "\n",
    "## Date Criteria\n",
    "\n",
    "Some items in Chronicles store dates. It is possible to add Workbench criteria to evaluate these dates. For\n",
    "example, the Enrollment Date is an item in the **Episodes ﴾HSB﴿ master file**. A Workbench report could\n",
    "apply a criteria evaluating this item to find all episodes with an enrollment date in the last two weeks.\n",
    "\n",
    "Recall that the template defines what criteria will be available, and therefore what dates can be evaluated\n",
    "as criteria on a given report.\n",
    "\n",
    "For a similar discussion of date options in SlicerDicer, see the Criteria: Advanced Options section of the\n",
    "**SlicerDicer Populations** chapter.\n",
    "\n",
    "**When building a new report**, it is common to test the report by **re‐running** it. Reporting\n",
    "Workbench will rerun a report if there have been any changes to the Criteria, Display, or\n",
    "Summary tab, regardless of the Hours to keep results setting. It’s also possible to run a Trace\n",
    "to force a report to re‐run. The Trace feature is covered in the Troubleshooting lesson.\n",
    "\n",
    "**HRN records** can be saved and even customized by the consumer, but they are ultimately temporary: all\n",
    "HRN records eventually get purged from the system a few months after they expire.\n",
    "\n",
    "''' \n",
    "with open(file_name, 'a',  encoding='utf-8') as f:\n",
    "    f.write(definition) # Write the template to the readme.md file\n",
    "    display(Markdown(definition))   "
   ]
  },
  {
   "cell_type": "code",
   "execution_count": 19,
   "id": "7e0f4e72",
   "metadata": {},
   "outputs": [
    {
     "data": {
      "text/markdown": [
       "\n",
       "\n",
       "## Display Tab\n",
       "\n",
       "The Display tab contains the **available** and **selected columns** defined by the **Workbench template**.\n",
       "\n",
       "On the left side of the Display tab are the Available Columns. On the right side are the Selected\n",
       "Columns which will be displayed on the report.\n",
       "\n",
       "## Available Columns\n",
       "\n",
       "The list of columns set by the Workbench template that can be displayed on the\n",
       "report. Use the arrows in the middle of the window to add or remove columns.\n",
       "These columns, as well as the **Selected Columns**, will be available for grouping\n",
       "and aggregating on the Summary tab.\n",
       "\n",
       "## Selected Columns\n",
       "\n",
       "The list of columns that will be **displayed on the report** and how wide they will be.\n",
       "It is possible to anchor up to 3 columns. The column width for this report can be\n",
       "adjusted.\n",
       "\n",
       "These columns will be available in the **Explore tab** of the results.\n",
       "\n",
       "Detailed views appear at the bottom of the Report Results window. They show additional information\n",
       "about a selected row in the results. Detailed views are based on print groups, which are typically managed\n",
       "by application teams. Work with your application teams or Epic representative to find appropriate print\n",
       "groups for your reports.\n",
       "\n"
      ],
      "text/plain": [
       "<IPython.core.display.Markdown object>"
      ]
     },
     "metadata": {},
     "output_type": "display_data"
    }
   ],
   "source": [
    "definition = '''\n",
    "\n",
    "## Display Tab\n",
    "\n",
    "The Display tab contains the **available** and **selected columns** defined by the **Workbench template**.\n",
    "\n",
    "On the left side of the Display tab are the Available Columns. On the right side are the Selected\n",
    "Columns which will be displayed on the report.\n",
    "\n",
    "## Available Columns\n",
    "\n",
    "The list of columns set by the Workbench template that can be displayed on the\n",
    "report. Use the arrows in the middle of the window to add or remove columns.\n",
    "These columns, as well as the **Selected Columns**, will be available for grouping\n",
    "and aggregating on the Summary tab.\n",
    "\n",
    "## Selected Columns\n",
    "\n",
    "The list of columns that will be **displayed on the report** and how wide they will be.\n",
    "It is possible to anchor up to 3 columns. The column width for this report can be\n",
    "adjusted.\n",
    "\n",
    "These columns will be available in the **Explore tab** of the results.\n",
    "\n",
    "Detailed views appear at the bottom of the Report Results window. They show additional information\n",
    "about a selected row in the results. Detailed views are based on print groups, which are typically managed\n",
    "by application teams. Work with your application teams or Epic representative to find appropriate print\n",
    "groups for your reports.\n",
    "\n",
    "''' \n",
    "with open(file_name, 'a',  encoding='utf-8') as f:\n",
    "    f.write(definition) # Write the template to the readme.md file\n",
    "    display(Markdown(definition))   "
   ]
  },
  {
   "cell_type": "code",
   "execution_count": 20,
   "id": "6e2d71b3",
   "metadata": {},
   "outputs": [
    {
     "data": {
      "text/markdown": [
       "\n",
       "\n",
       "## Reporting Workbench Results\n",
       "\n",
       "Every time a report is **run**, a **new HRN record** is generated to display the results. Workbench templates\n",
       "have a setting called **Hours to keep results**. When a user re‐runs a report within that time frame, the\n",
       "same results are returned. Only after this time frame has passed will the report retrieve new results. This\n",
       "conserves system resources.\n",
       "\n"
      ],
      "text/plain": [
       "<IPython.core.display.Markdown object>"
      ]
     },
     "metadata": {},
     "output_type": "display_data"
    }
   ],
   "source": [
    "definition = '''\n",
    "\n",
    "## Reporting Workbench Results\n",
    "\n",
    "Every time a report is **run**, a **new HRN record** is generated to display the results. Workbench templates\n",
    "have a setting called **Hours to keep results**. When a user re‐runs a report within that time frame, the\n",
    "same results are returned. Only after this time frame has passed will the report retrieve new results. This\n",
    "conserves system resources.\n",
    "\n",
    "''' \n",
    "with open(file_name, 'a',  encoding='utf-8') as f:\n",
    "    f.write(definition) # Write the template to the readme.md file\n",
    "    display(Markdown(definition))   "
   ]
  },
  {
   "cell_type": "code",
   "execution_count": 21,
   "id": "524d3c29",
   "metadata": {},
   "outputs": [
    {
     "data": {
      "text/markdown": [
       "\n",
       "\n",
       "\n"
      ],
      "text/plain": [
       "<IPython.core.display.Markdown object>"
      ]
     },
     "metadata": {},
     "output_type": "display_data"
    }
   ],
   "source": [
    "definition = '''\n",
    "\n",
    "\n",
    "''' \n",
    "with open(file_name, 'a',  encoding='utf-8') as f:\n",
    "    f.write(definition) # Write the template to the readme.md file\n",
    "    display(Markdown(definition))   "
   ]
  },
  {
   "cell_type": "code",
   "execution_count": 22,
   "id": "0a01ca14",
   "metadata": {},
   "outputs": [
    {
     "data": {
      "text/markdown": [
       "\n",
       "\n",
       "## Results Viewer - Page 174 \n",
       "\n",
       "After running a report, you are brought to the **Results Viewer**. There will be one or more tabs available to\n",
       "view the Workbench results, depending on the report settings. The two default tabs are listed below.\n",
       "\n",
       "Additional tabs will appear for any summaries built on the report. You’ll learn how to build **Workbench\n",
       "summaries** in the next section.\n",
       "\n",
       "### Detail List Tab \n",
       "\n",
       "Users are brought to **line‐level detail list tab** by default.\n",
       "\n",
       "\n",
       "### Explore Tab \n",
       "\n",
       "In the **Explore tab**, users can visualize Workbench results using a **SlicerDicer\n",
       "interface**.\n",
       "\n"
      ],
      "text/plain": [
       "<IPython.core.display.Markdown object>"
      ]
     },
     "metadata": {},
     "output_type": "display_data"
    }
   ],
   "source": [
    "definition = '''\n",
    "\n",
    "## Results Viewer - Page 174 \n",
    "\n",
    "After running a report, you are brought to the **Results Viewer**. There will be one or more tabs available to\n",
    "view the Workbench results, depending on the report settings. The two default tabs are listed below.\n",
    "\n",
    "Additional tabs will appear for any summaries built on the report. You’ll learn how to build **Workbench\n",
    "summaries** in the next section.\n",
    "\n",
    "### Detail List Tab \n",
    "\n",
    "Users are brought to **line‐level detail list tab** by default.\n",
    "\n",
    "\n",
    "### Explore Tab \n",
    "\n",
    "In the **Explore tab**, users can visualize Workbench results using a **SlicerDicer\n",
    "interface**.\n",
    "\n",
    "''' \n",
    "with open(file_name, 'a',  encoding='utf-8') as f:\n",
    "    f.write(definition) # Write the template to the readme.md file\n",
    "    display(Markdown(definition))   "
   ]
  },
  {
   "cell_type": "code",
   "execution_count": 23,
   "id": "d63cff71",
   "metadata": {},
   "outputs": [
    {
     "data": {
      "text/markdown": [
       "\n",
       "\n",
       "## View Manager\n",
       "\n",
       "Users can click the **View Manager** to save a view ﴾filters and sorting on the Detail List﴿ or save a\n",
       "Workbench visualization ﴾a graph built in the Explore tab﴿.\n",
       "\n"
      ],
      "text/plain": [
       "<IPython.core.display.Markdown object>"
      ]
     },
     "metadata": {},
     "output_type": "display_data"
    }
   ],
   "source": [
    "definition = '''\n",
    "\n",
    "## View Manager\n",
    "\n",
    "Users can click the **View Manager** to save a view ﴾filters and sorting on the Detail List﴿ or save a\n",
    "Workbench visualization ﴾a graph built in the Explore tab﴿.\n",
    "\n",
    "''' \n",
    "with open(file_name, 'a',  encoding='utf-8') as f:\n",
    "    f.write(definition) # Write the template to the readme.md file\n",
    "    display(Markdown(definition))   "
   ]
  },
  {
   "cell_type": "code",
   "execution_count": 24,
   "id": "703f3201",
   "metadata": {},
   "outputs": [
    {
     "data": {
      "text/markdown": [
       "\n",
       "\n",
       "\n"
      ],
      "text/plain": [
       "<IPython.core.display.Markdown object>"
      ]
     },
     "metadata": {},
     "output_type": "display_data"
    }
   ],
   "source": [
    "definition = '''\n",
    "\n",
    "\n",
    "''' \n",
    "with open(file_name, 'a',  encoding='utf-8') as f:\n",
    "    f.write(definition) # Write the template to the readme.md file\n",
    "    display(Markdown(definition))   "
   ]
  },
  {
   "cell_type": "code",
   "execution_count": 25,
   "id": "901616a3",
   "metadata": {},
   "outputs": [
    {
     "data": {
      "text/markdown": [
       "\n",
       "\n",
       "\n"
      ],
      "text/plain": [
       "<IPython.core.display.Markdown object>"
      ]
     },
     "metadata": {},
     "output_type": "display_data"
    }
   ],
   "source": [
    "definition = '''\n",
    "\n",
    "\n",
    "''' \n",
    "with open(file_name, 'a',  encoding='utf-8') as f:\n",
    "    f.write(definition) # Write the template to the readme.md file\n",
    "    display(Markdown(definition))   "
   ]
  },
  {
   "cell_type": "code",
   "execution_count": null,
   "id": "36d7143b",
   "metadata": {},
   "outputs": [],
   "source": []
  },
  {
   "cell_type": "code",
   "execution_count": null,
   "id": "d6c9ec50",
   "metadata": {},
   "outputs": [],
   "source": []
  },
  {
   "cell_type": "code",
   "execution_count": null,
   "id": "3b1992a7",
   "metadata": {},
   "outputs": [],
   "source": []
  },
  {
   "cell_type": "code",
   "execution_count": null,
   "id": "6d1bce2f",
   "metadata": {},
   "outputs": [],
   "source": []
  },
  {
   "cell_type": "code",
   "execution_count": null,
   "id": "df747a31",
   "metadata": {},
   "outputs": [],
   "source": []
  },
  {
   "cell_type": "code",
   "execution_count": null,
   "id": "9842a00c",
   "metadata": {},
   "outputs": [],
   "source": []
  },
  {
   "cell_type": "code",
   "execution_count": null,
   "id": "ca36ca1c",
   "metadata": {},
   "outputs": [],
   "source": []
  },
  {
   "cell_type": "code",
   "execution_count": null,
   "id": "a20be736",
   "metadata": {},
   "outputs": [],
   "source": []
  },
  {
   "cell_type": "code",
   "execution_count": null,
   "id": "838512ba",
   "metadata": {},
   "outputs": [],
   "source": []
  },
  {
   "cell_type": "code",
   "execution_count": null,
   "id": "88091e6b",
   "metadata": {},
   "outputs": [],
   "source": []
  },
  {
   "cell_type": "code",
   "execution_count": null,
   "id": "88125ae5",
   "metadata": {},
   "outputs": [],
   "source": []
  },
  {
   "cell_type": "markdown",
   "id": "72244be9",
   "metadata": {},
   "source": [
    "## Step 0 - Process End - display log"
   ]
  },
  {
   "cell_type": "code",
   "execution_count": 26,
   "id": "134074a1",
   "metadata": {},
   "outputs": [
    {
     "name": "stdout",
     "output_type": "stream",
     "text": [
      "2024-12-23 10:06:22,813 - INFO - START EPIC_cogito_170_ch6 =============================================\n",
      "2024-12-23 10:06:22,814 - INFO - START EPIC_cogito_170_ch6 Start Time = 2024-12-23 10:06:22\n",
      "2024-12-23 10:06:22,814 - INFO - EPIC_cogito_170_ch6 Step 0 - Initialize the configuration file parser\n",
      "2024-12-23 10:06:22,814 - INFO - Process EPIC_cogito_170_ch6 Step 0 - Initializing and starting Logging Process.\n",
      "2024-12-23 10:06:23,130 - INFO - PERFORMANCE EPIC_cogito_170_ch6 The total process duration was:0.32\n",
      "2024-12-23 10:06:23,130 - INFO - PERFORMANCE EPIC_cogito_170_ch6 Stop Time = 2024-12-23 10:06:23\n",
      "2024-12-23 10:06:23,130 - INFO - PERFORMANCE EPIC_cogito_170_ch6 Short process duration less than 3 Seconds:0.32\n",
      "2024-12-23 10:06:23,130 - INFO - PERFORMANCE EPIC_cogito_170_ch6 Performance optimization is not reccomended\n",
      "2024-12-23 10:06:23,131 - INFO - END EPIC_cogito_170_ch6 =============================================\n",
      "\n"
     ]
    }
   ],
   "source": [
    "# Calculate and classify the process performance \n",
    "status = ql.calculate_process_performance(solution_name, start_time) \n",
    "print(ql.append_log_file(solution_name))  "
   ]
  },
  {
   "cell_type": "markdown",
   "id": "fcf97414",
   "metadata": {},
   "source": [
    "#### https://github.com/JoeEberle/ -- josepheberle@outlook.com"
   ]
  }
 ],
 "metadata": {
  "kernelspec": {
   "display_name": "Python 3 (ipykernel)",
   "language": "python",
   "name": "python3"
  },
  "language_info": {
   "codemirror_mode": {
    "name": "ipython",
    "version": 3
   },
   "file_extension": ".py",
   "mimetype": "text/x-python",
   "name": "python",
   "nbconvert_exporter": "python",
   "pygments_lexer": "ipython3",
   "version": "3.11.5"
  }
 },
 "nbformat": 4,
 "nbformat_minor": 5
}
