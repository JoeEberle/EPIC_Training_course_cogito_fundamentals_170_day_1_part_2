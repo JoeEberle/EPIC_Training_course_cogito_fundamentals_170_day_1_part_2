{
 "cells": [
  {
   "cell_type": "markdown",
   "id": "237aab5c",
   "metadata": {},
   "source": [
    "# Microsoft Azure\n",
    "\n",
    "#### josepheberle@outlook.com"
   ]
  },
  {
   "cell_type": "code",
   "execution_count": 1,
   "id": "deffe246",
   "metadata": {},
   "outputs": [
    {
     "name": "stderr",
     "output_type": "stream",
     "text": [
      "C:\\Users\\jxe0313\\AppData\\Roaming\\Python\\Python311\\site-packages\\pandas\\core\\arrays\\masked.py:60: UserWarning: Pandas requires version '1.3.6' or newer of 'bottleneck' (version '1.3.5' currently installed).\n",
      "  from pandas.core import (\n"
     ]
    },
    {
     "name": "stdout",
     "output_type": "stream",
     "text": [
      "Libraries Imported succesfully on 2024-12-23 at 13:07:39.660890\n"
     ]
    }
   ],
   "source": [
    "import os\n",
    "import schedule\n",
    "from datetime import datetime\n",
    "import pandas as pd \n",
    "import quick_logger as ql\n",
    "import talking_code as tc \n",
    "import file_manager as fm \n",
    "import time\n",
    "from IPython.display import Markdown, display, Image\n",
    "print(f\"Libraries Imported succesfully on {datetime.now().date()} at {datetime.now().time()}\") "
   ]
  },
  {
   "cell_type": "markdown",
   "id": "7d7f1918-fc06-4335-81bc-17557136ddcd",
   "metadata": {},
   "source": [
    "#### Required Setup Step 0 - Intitiate Configuration Settings and name the overall solution"
   ]
  },
  {
   "cell_type": "code",
   "execution_count": 2,
   "id": "a1984f04-117f-4dc5-98e9-9c701b3e3a4c",
   "metadata": {},
   "outputs": [],
   "source": [
    "import configparser \n",
    "config = configparser.ConfigParser()\n",
    "cfg = config.read('config.ini')  \n",
    "solution_name = 'microsoft_azure' "
   ]
  },
  {
   "cell_type": "markdown",
   "id": "092cdb4f-95e5-4d0b-9435-f60b3f117f8b",
   "metadata": {},
   "source": [
    "#### Required Setup Step 0 - Intitiate Logging and debugging "
   ]
  },
  {
   "cell_type": "code",
   "execution_count": 3,
   "id": "73f3ad24-ff3d-4ba7-84aa-944105fef0f0",
   "metadata": {},
   "outputs": [
    {
     "name": "stdout",
     "output_type": "stream",
     "text": [
      "Process microsoft_azure Step 0 - Initializing and starting Logging Process.\n"
     ]
    }
   ],
   "source": [
    "# Establish the Python Logger  \n",
    "import logging # built in python library that does not need to be installed \n",
    "import quick_logger as ql\n",
    "\n",
    "global start_stime \n",
    "start_time = ql.set_start_time()\n",
    "logging = ql.create_logger_start(solution_name, start_time) \n",
    "ql.set_speaking_log(False)\n",
    "ql.set_speaking_steps(False)\n",
    "ql.pvlog('info',f'Process {solution_name} Step 0 - Initializing and starting Logging Process.') "
   ]
  },
  {
   "cell_type": "code",
   "execution_count": 4,
   "id": "91fcbc30-82d5-4a62-99ef-370952ef7869",
   "metadata": {},
   "outputs": [
    {
     "data": {
      "text/markdown": [
       "\n",
       "Microsoft provides a variety of free training resources to help individuals prepare for Azure certifications.\n",
       "\n",
       "**1. Microsoft Learn**\n",
       "\n",
       "Microsoft Learn offers free, self-paced learning modules and paths that cover a broad range of Azure topics, from foundational concepts to advanced services. These interactive materials include hands-on exercises to reinforce learning. \n",
       "\n",
       "**2. Virtual Training Days**\n",
       "\n",
       "Microsoft organizes free, instructor-led Virtual Training Days that delve into various Azure services and solutions. These events cater to different skill levels and provide opportunities to engage with experts. \n",
       "\n",
       "**3. Student Certifications**\n",
       "\n",
       "Students can access free certification resources tailored to their needs, including live training webinars and exam preparation materials. Programs like the AZ-900 Azure Fundamentals training are available to help students achieve certification. \n",
       "\n",
       "**4. Microsoft Documentation**\n",
       "\n",
       "Comprehensive, up-to-date documentation is available for all Azure services, offering in-depth information and tutorials to support learning and certification preparation. \n",
       "\n",
       "**Certification Exam Costs**\n",
       "\n",
       "While many training resources are free, certification exams typically require a fee. For example, the Exam AZ-900: Microsoft Azure Fundamentals has an associated cost. However, Microsoft occasionally offers discounts or free exam vouchers through special programs or events. \n",
       "\n",
       "By utilizing these resources, individuals can effectively prepare for Azure certifications, enhancing their skills and advancing their careers in cloud computing. \n",
       "\n"
      ],
      "text/plain": [
       "<IPython.core.display.Markdown object>"
      ]
     },
     "metadata": {},
     "output_type": "display_data"
    }
   ],
   "source": [
    "definition = '''\n",
    "Microsoft provides a variety of free training resources to help individuals prepare for Azure certifications.\n",
    "\n",
    "**1. Microsoft Learn**\n",
    "\n",
    "Microsoft Learn offers free, self-paced learning modules and paths that cover a broad range of Azure topics, from foundational concepts to advanced services. These interactive materials include hands-on exercises to reinforce learning. \n",
    "\n",
    "**2. Virtual Training Days**\n",
    "\n",
    "Microsoft organizes free, instructor-led Virtual Training Days that delve into various Azure services and solutions. These events cater to different skill levels and provide opportunities to engage with experts. \n",
    "\n",
    "**3. Student Certifications**\n",
    "\n",
    "Students can access free certification resources tailored to their needs, including live training webinars and exam preparation materials. Programs like the AZ-900 Azure Fundamentals training are available to help students achieve certification. \n",
    "\n",
    "**4. Microsoft Documentation**\n",
    "\n",
    "Comprehensive, up-to-date documentation is available for all Azure services, offering in-depth information and tutorials to support learning and certification preparation. \n",
    "\n",
    "**Certification Exam Costs**\n",
    "\n",
    "While many training resources are free, certification exams typically require a fee. For example, the Exam AZ-900: Microsoft Azure Fundamentals has an associated cost. However, Microsoft occasionally offers discounts or free exam vouchers through special programs or events. \n",
    "\n",
    "By utilizing these resources, individuals can effectively prepare for Azure certifications, enhancing their skills and advancing their careers in cloud computing. \n",
    "\n",
    "''' \n",
    "# Write the solution defitions out to the solution_description.md file\n",
    "file_name = \"solution_description.md\"\n",
    "with open(file_name, 'w',  encoding='utf-8') as f:\n",
    "    # Write the template to the readme.md file\n",
    "     f.write(definition)\n",
    "\n",
    "display(Markdown(definition))   "
   ]
  },
  {
   "cell_type": "code",
   "execution_count": 5,
   "id": "57a20eb7",
   "metadata": {},
   "outputs": [
    {
     "data": {
      "text/markdown": [
       "\n",
       "Azure Service Fabric is a distributed systems platform developed by Microsoft to facilitate the packaging, deployment, and management of scalable and reliable microservices and containers. It addresses the complexities inherent in developing and overseeing cloud-native applications, with a notable emphasis on building stateful services. \n",
       "\n",
       "**Key Features:**\n",
       "\n",
       "- **Microservices Support**: Service Fabric enables the creation of both stateless and stateful microservices, allowing developers to choose the architecture that best fits their application's needs. \n",
       "\n",
       "- **Container Orchestration**: It serves as Microsoft's container orchestrator, deploying and managing containers across a cluster of machines, and supports both Windows and Linux environments. \n",
       "\n",
       "- **Application Lifecycle Management**: Service Fabric provides comprehensive support for the entire application lifecycle, including development, deployment, daily monitoring, management, maintenance, and eventual decommissioning. \n",
       "\n",
       "- **Cross-Platform Deployment**: Developers can create Service Fabric clusters in various environments, including on-premises data centers, other public clouds, and across different operating systems like Windows Server and Linux. \n",
       "\n",
       "**Use Cases:**\n",
       "\n",
       "Service Fabric powers many of Microsoft's own services, such as Azure SQL Database, Azure Cosmos DB, Cortana, Microsoft Power BI, Microsoft Intune, Azure Event Hubs, Azure IoT Hub, Dynamics 365, and Skype for Business. \n",
       "\n",
       "**Development Environment:**\n",
       "\n",
       "To build and run Service Fabric applications, developers need to set up a development environment that includes the Service Fabric runtime, SDK, and tools. This setup is consistent across local development and production environments, ensuring seamless deployment. \n",
       "\n",
       "In summary, Azure Service Fabric is a robust platform designed to simplify the complexities of developing and managing microservices and container-based applications, offering flexibility and scalability across various environments. \n"
      ],
      "text/plain": [
       "<IPython.core.display.Markdown object>"
      ]
     },
     "metadata": {},
     "output_type": "display_data"
    }
   ],
   "source": [
    "definition = '''\n",
    "Azure Service Fabric is a distributed systems platform developed by Microsoft to facilitate the packaging, deployment, and management of scalable and reliable microservices and containers. It addresses the complexities inherent in developing and overseeing cloud-native applications, with a notable emphasis on building stateful services. \n",
    "\n",
    "**Key Features:**\n",
    "\n",
    "- **Microservices Support**: Service Fabric enables the creation of both stateless and stateful microservices, allowing developers to choose the architecture that best fits their application's needs. \n",
    "\n",
    "- **Container Orchestration**: It serves as Microsoft's container orchestrator, deploying and managing containers across a cluster of machines, and supports both Windows and Linux environments. \n",
    "\n",
    "- **Application Lifecycle Management**: Service Fabric provides comprehensive support for the entire application lifecycle, including development, deployment, daily monitoring, management, maintenance, and eventual decommissioning. \n",
    "\n",
    "- **Cross-Platform Deployment**: Developers can create Service Fabric clusters in various environments, including on-premises data centers, other public clouds, and across different operating systems like Windows Server and Linux. \n",
    "\n",
    "**Use Cases:**\n",
    "\n",
    "Service Fabric powers many of Microsoft's own services, such as Azure SQL Database, Azure Cosmos DB, Cortana, Microsoft Power BI, Microsoft Intune, Azure Event Hubs, Azure IoT Hub, Dynamics 365, and Skype for Business. \n",
    "\n",
    "**Development Environment:**\n",
    "\n",
    "To build and run Service Fabric applications, developers need to set up a development environment that includes the Service Fabric runtime, SDK, and tools. This setup is consistent across local development and production environments, ensuring seamless deployment. \n",
    "\n",
    "In summary, Azure Service Fabric is a robust platform designed to simplify the complexities of developing and managing microservices and container-based applications, offering flexibility and scalability across various environments. \n",
    "''' \n",
    "# Write the solution defitions out to the solution_description.md file\n",
    "file_name = \"solution_description.md\"\n",
    "with open(file_name, 'a',  encoding='utf-8') as f:\n",
    "    # Write the template to the readme.md file\n",
    "     f.write(definition)\n",
    "\n",
    "display(Markdown(definition))   "
   ]
  },
  {
   "cell_type": "code",
   "execution_count": 6,
   "id": "7bb0ee80",
   "metadata": {},
   "outputs": [
    {
     "data": {
      "text/markdown": [
       "\n",
       "\n",
       "Microsoft offers a comprehensive suite of resources to assist individuals in preparing for Azure certifications, catering to various learning preferences and proficiency levels.\n",
       "\n",
       "**1. Microsoft Learn:**\n",
       "Microsoft Learn is the central hub for Azure training, providing a vast array of free, self-paced learning modules and learning paths. These resources cover fundamental to advanced topics, allowing learners to build practical skills through interactive exercises and hands-on labs. \n",
       "\n",
       "**2. Certification-Specific Study Guides:**\n",
       "For each Azure certification exam, Microsoft provides detailed study guides outlining the skills measured and offering links to relevant learning materials. For instance, the study guide for Exam AZ-900: Microsoft Azure Fundamentals includes a breakdown of exam topics and recommended resources. \n",
       "\n",
       "**3. Instructor-Led Training:**\n",
       "Microsoft partners with training providers to offer instructor-led courses, delivering in-depth, structured learning experiences. These courses are designed to align with certification objectives and are taught by certified trainers.\n",
       "\n",
       "**4. Practice Assessments and Exam Sandboxes:**\n",
       "To familiarize candidates with the exam format and question types, Microsoft offers practice assessments and an exam sandbox environment. These tools help assess readiness and build confidence before taking the actual exam. \n",
       "\n",
       "**5. Official Practice Tests:**\n",
       "Through partnerships with providers like MeasureUp, Microsoft offers official practice tests that simulate the certification exam environment, enabling candidates to identify knowledge gaps and focus their studies accordingly.\n",
       "\n",
       "**6. Community Forums and Q&A:**\n",
       "Engaging with the community through Microsoft’s Q&A forums allows learners to ask questions, share knowledge, and gain insights from experienced professionals and peers.\n",
       "\n",
       "**7. Certification Renewal Resources:**\n",
       "Microsoft provides resources and assessments for certification renewal, ensuring that professionals stay current with evolving Azure technologies and maintain their credentials. \n",
       "\n",
       "By leveraging these resources, individuals can effectively prepare for Azure certification exams, enhancing their cloud computing expertise and advancing their careers. \n",
       "\n"
      ],
      "text/plain": [
       "<IPython.core.display.Markdown object>"
      ]
     },
     "metadata": {},
     "output_type": "display_data"
    }
   ],
   "source": [
    "definition = '''\n",
    "\n",
    "Microsoft offers a comprehensive suite of resources to assist individuals in preparing for Azure certifications, catering to various learning preferences and proficiency levels.\n",
    "\n",
    "**1. Microsoft Learn:**\n",
    "Microsoft Learn is the central hub for Azure training, providing a vast array of free, self-paced learning modules and learning paths. These resources cover fundamental to advanced topics, allowing learners to build practical skills through interactive exercises and hands-on labs. \n",
    "\n",
    "**2. Certification-Specific Study Guides:**\n",
    "For each Azure certification exam, Microsoft provides detailed study guides outlining the skills measured and offering links to relevant learning materials. For instance, the study guide for Exam AZ-900: Microsoft Azure Fundamentals includes a breakdown of exam topics and recommended resources. \n",
    "\n",
    "**3. Instructor-Led Training:**\n",
    "Microsoft partners with training providers to offer instructor-led courses, delivering in-depth, structured learning experiences. These courses are designed to align with certification objectives and are taught by certified trainers.\n",
    "\n",
    "**4. Practice Assessments and Exam Sandboxes:**\n",
    "To familiarize candidates with the exam format and question types, Microsoft offers practice assessments and an exam sandbox environment. These tools help assess readiness and build confidence before taking the actual exam. \n",
    "\n",
    "**5. Official Practice Tests:**\n",
    "Through partnerships with providers like MeasureUp, Microsoft offers official practice tests that simulate the certification exam environment, enabling candidates to identify knowledge gaps and focus their studies accordingly.\n",
    "\n",
    "**6. Community Forums and Q&A:**\n",
    "Engaging with the community through Microsoft’s Q&A forums allows learners to ask questions, share knowledge, and gain insights from experienced professionals and peers.\n",
    "\n",
    "**7. Certification Renewal Resources:**\n",
    "Microsoft provides resources and assessments for certification renewal, ensuring that professionals stay current with evolving Azure technologies and maintain their credentials. \n",
    "\n",
    "By leveraging these resources, individuals can effectively prepare for Azure certification exams, enhancing their cloud computing expertise and advancing their careers. \n",
    "\n",
    "''' \n",
    "# Write the solution defitions out to the solution_description.md file\n",
    "file_name = \"solution_description.md\"\n",
    "with open(file_name, 'a',  encoding='utf-8') as f:\n",
    "    # Write the template to the readme.md file\n",
    "     f.write(definition)\n",
    "\n",
    "display(Markdown(definition))   "
   ]
  },
  {
   "cell_type": "code",
   "execution_count": 7,
   "id": "e2379298",
   "metadata": {},
   "outputs": [
    {
     "data": {
      "text/markdown": [
       "\n",
       "\n",
       "Microsoft Azure certifications are expected to remain in high demand over the next few years, driven by several key factors:\n",
       "\n",
       "**1. Growing Adoption of Cloud Services:**\n",
       "The global cloud computing market is rapidly expanding, with projections estimating it will reach approximately $832.1 billion by 2025. Microsoft Azure holds a significant share of this market, making Azure expertise increasingly valuable. \n",
       "\n",
       "**2. Industry Demand for Certified Professionals:**\n",
       "Organizations across various sectors are migrating to cloud platforms like Azure, leading to a surge in demand for professionals skilled in Azure services. Roles such as Azure Solutions Architect, Azure Administrator, and Azure Security Engineer are particularly sought after. \n",
       "\n",
       "**3. Career Advancement and Salary Benefits:**\n",
       "Holding Azure certifications can enhance career prospects and lead to higher earning potential. For instance, Azure Solutions Architects can earn an average annual salary of around $150,000 in the United States. \n",
       "\n",
       "**4. Alignment with Emerging Technologies:**\n",
       "Azure certifications cover a range of advanced topics, including artificial intelligence, machine learning, and data analytics, aligning with current technological trends and business needs. \n",
       "\n",
       "Given these factors, pursuing Microsoft Azure certifications can be a strategic move for professionals aiming to advance their careers in the evolving field of cloud computing. \n"
      ],
      "text/plain": [
       "<IPython.core.display.Markdown object>"
      ]
     },
     "metadata": {},
     "output_type": "display_data"
    }
   ],
   "source": [
    "definition = '''\n",
    "\n",
    "Microsoft Azure certifications are expected to remain in high demand over the next few years, driven by several key factors:\n",
    "\n",
    "**1. Growing Adoption of Cloud Services:**\n",
    "The global cloud computing market is rapidly expanding, with projections estimating it will reach approximately $832.1 billion by 2025. Microsoft Azure holds a significant share of this market, making Azure expertise increasingly valuable. \n",
    "\n",
    "**2. Industry Demand for Certified Professionals:**\n",
    "Organizations across various sectors are migrating to cloud platforms like Azure, leading to a surge in demand for professionals skilled in Azure services. Roles such as Azure Solutions Architect, Azure Administrator, and Azure Security Engineer are particularly sought after. \n",
    "\n",
    "**3. Career Advancement and Salary Benefits:**\n",
    "Holding Azure certifications can enhance career prospects and lead to higher earning potential. For instance, Azure Solutions Architects can earn an average annual salary of around $150,000 in the United States. \n",
    "\n",
    "**4. Alignment with Emerging Technologies:**\n",
    "Azure certifications cover a range of advanced topics, including artificial intelligence, machine learning, and data analytics, aligning with current technological trends and business needs. \n",
    "\n",
    "Given these factors, pursuing Microsoft Azure certifications can be a strategic move for professionals aiming to advance their careers in the evolving field of cloud computing. \n",
    "''' \n",
    "# Write the solution defitions out to the solution_description.md file\n",
    "file_name = \"solution_description.md\"\n",
    "with open(file_name, 'a',  encoding='utf-8') as f:\n",
    "    # Write the template to the readme.md file\n",
    "     f.write(definition)\n",
    "\n",
    "display(Markdown(definition))   "
   ]
  },
  {
   "cell_type": "code",
   "execution_count": 8,
   "id": "d2878fd8",
   "metadata": {},
   "outputs": [
    {
     "data": {
      "text/markdown": [
       "\n",
       "\n",
       "As of the third quarter of 2024, the global cloud infrastructure market is dominated by the following providers:\n",
       "\n",
       "| Provider               | Market Share | Year-over-Year Growth |\n",
       "|------------------------|--------------|-----------------------|\n",
       "| **Amazon Web Services (AWS)** | 31%          | 12%                   |\n",
       "| **Microsoft Azure**           | 20%          | 20%                   |\n",
       "| **Google Cloud**              | 13%          | 35%                   |\n",
       "| **Alibaba Cloud**             | 4%           | 6%                    |\n",
       "| **IBM Cloud**                 | 3%           | Not specified         |\n",
       "\n",
       "*Note: Percentages are approximate and based on available data.*\n",
       "\n",
       "**Fastest Growing Provider:**\n",
       "\n",
       "Google Cloud has exhibited the most significant growth among the top providers, achieving a 35% year-over-year increase in revenue for Q3 2024. \n",
       "\n",
       "**Market Dynamics:**\n",
       "\n",
       "- **AWS**: Maintains the largest market share but has experienced a slight decline as competitors gain traction. \n",
       "\n",
       "- **Microsoft Azure**: Holds the second-largest share and continues to grow, with a 20% year-over-year increase in Q3 2024. \n",
       "\n",
       "- **Google Cloud**: Despite being third in market share, its rapid growth is attributed to substantial investments in AI and cloud infrastructure. \n",
       "\n",
       "**Conclusion:**\n",
       "\n",
       "While AWS remains the market leader, Google Cloud's accelerated growth, driven by advancements in AI and cloud services, indicates a dynamic and competitive landscape among the top cloud service providers.\n",
       "\n",
       " "
      ],
      "text/plain": [
       "<IPython.core.display.Markdown object>"
      ]
     },
     "metadata": {},
     "output_type": "display_data"
    }
   ],
   "source": [
    "definition = '''\n",
    "\n",
    "As of the third quarter of 2024, the global cloud infrastructure market is dominated by the following providers:\n",
    "\n",
    "| Provider               | Market Share | Year-over-Year Growth |\n",
    "|------------------------|--------------|-----------------------|\n",
    "| **Amazon Web Services (AWS)** | 31%          | 12%                   |\n",
    "| **Microsoft Azure**           | 20%          | 20%                   |\n",
    "| **Google Cloud**              | 13%          | 35%                   |\n",
    "| **Alibaba Cloud**             | 4%           | 6%                    |\n",
    "| **IBM Cloud**                 | 3%           | Not specified         |\n",
    "\n",
    "*Note: Percentages are approximate and based on available data.*\n",
    "\n",
    "**Fastest Growing Provider:**\n",
    "\n",
    "Google Cloud has exhibited the most significant growth among the top providers, achieving a 35% year-over-year increase in revenue for Q3 2024. \n",
    "\n",
    "**Market Dynamics:**\n",
    "\n",
    "- **AWS**: Maintains the largest market share but has experienced a slight decline as competitors gain traction. \n",
    "\n",
    "- **Microsoft Azure**: Holds the second-largest share and continues to grow, with a 20% year-over-year increase in Q3 2024. \n",
    "\n",
    "- **Google Cloud**: Despite being third in market share, its rapid growth is attributed to substantial investments in AI and cloud infrastructure. \n",
    "\n",
    "**Conclusion:**\n",
    "\n",
    "While AWS remains the market leader, Google Cloud's accelerated growth, driven by advancements in AI and cloud services, indicates a dynamic and competitive landscape among the top cloud service providers.\n",
    "\n",
    " ''' \n",
    "# Write the solution defitions out to the solution_description.md file\n",
    "file_name = \"solution_description.md\"\n",
    "with open(file_name, 'a',  encoding='utf-8') as f:\n",
    "    # Write the template to the readme.md file\n",
    "     f.write(definition)\n",
    "\n",
    "display(Markdown(definition))   "
   ]
  },
  {
   "cell_type": "code",
   "execution_count": 9,
   "id": "a89de47d",
   "metadata": {},
   "outputs": [
    {
     "data": {
      "text/markdown": [
       "\n",
       "\n",
       "In the healthcare industry, several Electronic Medical Record (EMR) software solutions are prevalent, each catering to various organizational needs. While specific market share data for medical supply corporations is limited, the following EMR systems are widely recognized:\n",
       "\n",
       "1. **Epic Systems**: Holds approximately 36% of the U.S. hospital market share, offering a comprehensive suite of applications that support diverse healthcare settings. \n",
       "\n",
       "2. **Oracle Cerner**: Accounts for about 25% of the U.S. hospital market, providing scalable EMR solutions tailored for various healthcare organizations. \n",
       "\n",
       "3. **MEDITECH**: Captures around 16% of the U.S. hospital market, delivering integrated EMR systems suitable for small to mid-sized healthcare facilities. \n",
       "\n",
       "4. **Allscripts**: Offers versatile EMR solutions designed to enhance clinical, financial, and operational outcomes across different healthcare environments.\n",
       "\n",
       "5. **NextGen Healthcare**: Provides EMR systems focused on improving clinical productivity and patient engagement, primarily serving ambulatory care practices.\n",
       "\n",
       "*Note: The market share percentages are based on U.S. hospital data and may not directly reflect usage within medical supply corporations.*\n",
       "\n",
       "For medical supply corporations seeking EMR solutions, it's essential to assess each system's specific features, scalability, and integration capabilities to determine the best fit for their operational requirements. \n",
       " "
      ],
      "text/plain": [
       "<IPython.core.display.Markdown object>"
      ]
     },
     "metadata": {},
     "output_type": "display_data"
    }
   ],
   "source": [
    "definition = '''\n",
    "\n",
    "In the healthcare industry, several Electronic Medical Record (EMR) software solutions are prevalent, each catering to various organizational needs. While specific market share data for medical supply corporations is limited, the following EMR systems are widely recognized:\n",
    "\n",
    "1. **Epic Systems**: Holds approximately 36% of the U.S. hospital market share, offering a comprehensive suite of applications that support diverse healthcare settings. \n",
    "\n",
    "2. **Oracle Cerner**: Accounts for about 25% of the U.S. hospital market, providing scalable EMR solutions tailored for various healthcare organizations. \n",
    "\n",
    "3. **MEDITECH**: Captures around 16% of the U.S. hospital market, delivering integrated EMR systems suitable for small to mid-sized healthcare facilities. \n",
    "\n",
    "4. **Allscripts**: Offers versatile EMR solutions designed to enhance clinical, financial, and operational outcomes across different healthcare environments.\n",
    "\n",
    "5. **NextGen Healthcare**: Provides EMR systems focused on improving clinical productivity and patient engagement, primarily serving ambulatory care practices.\n",
    "\n",
    "*Note: The market share percentages are based on U.S. hospital data and may not directly reflect usage within medical supply corporations.*\n",
    "\n",
    "For medical supply corporations seeking EMR solutions, it's essential to assess each system's specific features, scalability, and integration capabilities to determine the best fit for their operational requirements. \n",
    " ''' \n",
    "# Write the solution defitions out to the solution_description.md file\n",
    "file_name = \"solution_description.md\"\n",
    "with open(file_name, 'a',  encoding='utf-8') as f:\n",
    "    # Write the template to the readme.md file\n",
    "     f.write(definition)\n",
    "\n",
    "display(Markdown(definition))   "
   ]
  },
  {
   "cell_type": "code",
   "execution_count": 10,
   "id": "ea99f2ce",
   "metadata": {},
   "outputs": [
    {
     "data": {
      "text/markdown": [
       "\n",
       "\n",
       "Yes, Microsoft Azure offers robust services for document scanning and Optical Character Recognition (OCR) to assist companies transitioning from paper-based systems to digital solutions.\n",
       "\n",
       "**Azure AI Document Intelligence**\n",
       "\n",
       "Formerly known as Form Recognizer, Azure AI Document Intelligence is a cloud-based service that applies advanced machine learning to extract text, key-value pairs, tables, and structures from documents. It supports various document types, including forms, invoices, receipts, and more, enabling efficient data extraction and digitization. \n",
       "\n",
       "**Key Features:**\n",
       "\n",
       "- **Prebuilt Models:** Utilize ready-made models for common document types to extract information without extensive manual setup.\n",
       "\n",
       "- **Custom Models:** Train models on your specific documents to tailor data extraction to unique formats and requirements.\n",
       "\n",
       "- **Layout Extraction:** Capture the structural layout of documents, including text, tables, and selection marks, preserving the original format.\n",
       "\n",
       "**Azure AI Vision**\n",
       "\n",
       "Azure AI Vision provides OCR capabilities optimized for extracting printed and handwritten text from images and documents. It supports multiple languages and can process various file formats, making it suitable for digitizing diverse document types. \n",
       "\n",
       "**Integration and Deployment:**\n",
       "\n",
       "Both services offer REST APIs and SDKs for seamless integration into existing workflows. They can be deployed in the cloud or on-premises using containers, providing flexibility to meet specific business needs. \n",
       "\n",
       "**Use Case: Transitioning to Digital Solutions**\n",
       "\n",
       "For a medical supplies company moving from paper-based systems to digital solutions, these Azure services can automate the extraction of data from invoices, purchase orders, and other documents, streamlining operations and reducing manual data entry errors.\n",
       "\n",
       "By leveraging Azure's document processing and OCR services, your company can effectively digitize paper documents, enabling efficient data management and integration into digital workflows.  \n",
       "\n"
      ],
      "text/plain": [
       "<IPython.core.display.Markdown object>"
      ]
     },
     "metadata": {},
     "output_type": "display_data"
    }
   ],
   "source": [
    "definition = '''\n",
    "\n",
    "Yes, Microsoft Azure offers robust services for document scanning and Optical Character Recognition (OCR) to assist companies transitioning from paper-based systems to digital solutions.\n",
    "\n",
    "**Azure AI Document Intelligence**\n",
    "\n",
    "Formerly known as Form Recognizer, Azure AI Document Intelligence is a cloud-based service that applies advanced machine learning to extract text, key-value pairs, tables, and structures from documents. It supports various document types, including forms, invoices, receipts, and more, enabling efficient data extraction and digitization. \n",
    "\n",
    "**Key Features:**\n",
    "\n",
    "- **Prebuilt Models:** Utilize ready-made models for common document types to extract information without extensive manual setup.\n",
    "\n",
    "- **Custom Models:** Train models on your specific documents to tailor data extraction to unique formats and requirements.\n",
    "\n",
    "- **Layout Extraction:** Capture the structural layout of documents, including text, tables, and selection marks, preserving the original format.\n",
    "\n",
    "**Azure AI Vision**\n",
    "\n",
    "Azure AI Vision provides OCR capabilities optimized for extracting printed and handwritten text from images and documents. It supports multiple languages and can process various file formats, making it suitable for digitizing diverse document types. \n",
    "\n",
    "**Integration and Deployment:**\n",
    "\n",
    "Both services offer REST APIs and SDKs for seamless integration into existing workflows. They can be deployed in the cloud or on-premises using containers, providing flexibility to meet specific business needs. \n",
    "\n",
    "**Use Case: Transitioning to Digital Solutions**\n",
    "\n",
    "For a medical supplies company moving from paper-based systems to digital solutions, these Azure services can automate the extraction of data from invoices, purchase orders, and other documents, streamlining operations and reducing manual data entry errors.\n",
    "\n",
    "By leveraging Azure's document processing and OCR services, your company can effectively digitize paper documents, enabling efficient data management and integration into digital workflows.  \n",
    "\n",
    "''' \n",
    "# Write the solution defitions out to the solution_description.md file\n",
    "file_name = \"solution_description.md\"\n",
    "with open(file_name, 'a',  encoding='utf-8') as f:\n",
    "    # Write the template to the readme.md file\n",
    "     f.write(definition)\n",
    "\n",
    "display(Markdown(definition))   "
   ]
  },
  {
   "cell_type": "code",
   "execution_count": 11,
   "id": "8639ac90",
   "metadata": {},
   "outputs": [
    {
     "data": {
      "text/markdown": [
       "\n",
       "\n",
       "As of December 2024, the relational database management system (RDBMS) market is characterized by several key players, each holding varying degrees of popularity and market presence. While exact market share percentages can fluctuate and are often proprietary, the following list provides an overview of the top 10 RDBMS platforms, ranked by their popularity scores as reported by DB-Engines:\n",
       "\n",
       "1. **Oracle**: A comprehensive multi-model RDBMS renowned for its scalability and robust feature set, widely adopted across diverse industries. \n",
       "\n",
       "2. **MySQL**: An open-source relational database favored for web applications and known for its reliability and ease of use. \n",
       "\n",
       "3. **Microsoft SQL Server**: A relational database management system offering deep integration with Microsoft products, suitable for enterprise-level applications. \n",
       "\n",
       "4. **PostgreSQL**: An open-source, multi-model RDBMS celebrated for its extensibility and standards compliance, supporting advanced data types and performance optimization. \n",
       "\n",
       "5. **Snowflake**: A cloud-based data warehousing solution that enables seamless data storage and analytics, offering scalability and flexibility for modern data workloads. \n",
       "\n",
       "6. **IBM Db2**: A multi-model RDBMS designed for high-performance data management, catering to both transactional and analytical workloads. \n",
       "\n",
       "7. **SQLite**: A lightweight, serverless RDBMS embedded within applications, ideal for mobile devices and small-scale data management. \n",
       "\n",
       "8. **Microsoft Access**: A desktop relational database tool integrated with Microsoft Office, suitable for small to medium-sized business applications. \n",
       "\n",
       "9. **MariaDB**: An open-source RDBMS forked from MySQL, offering enhanced features and performance improvements. \n",
       "\n",
       "10. **Microsoft Azure SQL Database**: A fully managed cloud-based RDBMS service providing scalability and high availability within the Azure ecosystem. \n",
       "\n",
       "*Note: The popularity scores are dynamic and subject to change over time. For the most current rankings, refer to the [DB-Engines Ranking](https://db-engines.com/en/ranking).*\n",
       "\n",
       "The RDBMS market continues to evolve, with cloud-based solutions like Snowflake and Microsoft Azure SQL Database gaining traction due to their scalability and integration capabilities. Traditional systems such as Oracle, MySQL, and Microsoft SQL Server maintain significant presence, especially in enterprise environments. Open-source platforms like PostgreSQL and MariaDB are also widely adopted for their flexibility and community support.\n",
       "\n",
       "For organizations selecting an RDBMS, it's crucial to assess specific requirements, including scalability, integration, support, and cost, to determine the most suitable solution. \n"
      ],
      "text/plain": [
       "<IPython.core.display.Markdown object>"
      ]
     },
     "metadata": {},
     "output_type": "display_data"
    }
   ],
   "source": [
    "definition = '''\n",
    "\n",
    "As of December 2024, the relational database management system (RDBMS) market is characterized by several key players, each holding varying degrees of popularity and market presence. While exact market share percentages can fluctuate and are often proprietary, the following list provides an overview of the top 10 RDBMS platforms, ranked by their popularity scores as reported by DB-Engines:\n",
    "\n",
    "1. **Oracle**: A comprehensive multi-model RDBMS renowned for its scalability and robust feature set, widely adopted across diverse industries. \n",
    "\n",
    "2. **MySQL**: An open-source relational database favored for web applications and known for its reliability and ease of use. \n",
    "\n",
    "3. **Microsoft SQL Server**: A relational database management system offering deep integration with Microsoft products, suitable for enterprise-level applications. \n",
    "\n",
    "4. **PostgreSQL**: An open-source, multi-model RDBMS celebrated for its extensibility and standards compliance, supporting advanced data types and performance optimization. \n",
    "\n",
    "5. **Snowflake**: A cloud-based data warehousing solution that enables seamless data storage and analytics, offering scalability and flexibility for modern data workloads. \n",
    "\n",
    "6. **IBM Db2**: A multi-model RDBMS designed for high-performance data management, catering to both transactional and analytical workloads. \n",
    "\n",
    "7. **SQLite**: A lightweight, serverless RDBMS embedded within applications, ideal for mobile devices and small-scale data management. \n",
    "\n",
    "8. **Microsoft Access**: A desktop relational database tool integrated with Microsoft Office, suitable for small to medium-sized business applications. \n",
    "\n",
    "9. **MariaDB**: An open-source RDBMS forked from MySQL, offering enhanced features and performance improvements. \n",
    "\n",
    "10. **Microsoft Azure SQL Database**: A fully managed cloud-based RDBMS service providing scalability and high availability within the Azure ecosystem. \n",
    "\n",
    "*Note: The popularity scores are dynamic and subject to change over time. For the most current rankings, refer to the [DB-Engines Ranking](https://db-engines.com/en/ranking).*\n",
    "\n",
    "The RDBMS market continues to evolve, with cloud-based solutions like Snowflake and Microsoft Azure SQL Database gaining traction due to their scalability and integration capabilities. Traditional systems such as Oracle, MySQL, and Microsoft SQL Server maintain significant presence, especially in enterprise environments. Open-source platforms like PostgreSQL and MariaDB are also widely adopted for their flexibility and community support.\n",
    "\n",
    "For organizations selecting an RDBMS, it's crucial to assess specific requirements, including scalability, integration, support, and cost, to determine the most suitable solution. \n",
    "''' \n",
    "# Write the solution defitions out to the solution_description.md file\n",
    "file_name = \"solution_description.md\"\n",
    "with open(file_name, 'a',  encoding='utf-8') as f:\n",
    "    # Write the template to the readme.md file\n",
    "     f.write(definition)\n",
    "\n",
    "display(Markdown(definition))   "
   ]
  },
  {
   "cell_type": "code",
   "execution_count": 12,
   "id": "5e8383c8",
   "metadata": {},
   "outputs": [
    {
     "data": {
      "text/markdown": [
       "\n",
       "\n",
       "Microsoft Azure AI Fundamentals (Exam AI-900) is an entry-level certification that validates your foundational knowledge of AI and machine learning concepts, and how these are implemented in Microsoft Azure. It covers basic principles of machine learning, computer vision, and natural language processing, as well as how to use Azure services—such as Azure Machine Learning, Cognitive Services, and more—to create AI-based solutions.\n",
       "\n",
       "Below are some simple suggestions to help you get started:\n",
       "\n",
       "1. Review the Official Microsoft Documentation – Familiarize yourself with the exam objectives and recommended learning paths on Microsoft’s website.\n",
       "2. Hands-On Practice – Use Azure free trials to experiment with services like Azure Machine Learning Studio or Azure Cognitive Services.\n",
       "3. Take Practice Exams – Try sample questions and practice tests to gauge your readiness and identify areas for improvement.\n",
       "4. This certification is an excellent starting point for anyone looking to pursue a career in AI or machine learning within the Azure ecosystem.\n",
       "\n",
       "\n"
      ],
      "text/plain": [
       "<IPython.core.display.Markdown object>"
      ]
     },
     "metadata": {},
     "output_type": "display_data"
    }
   ],
   "source": [
    "definition = '''\n",
    "\n",
    "Microsoft Azure AI Fundamentals (Exam AI-900) is an entry-level certification that validates your foundational knowledge of AI and machine learning concepts, and how these are implemented in Microsoft Azure. It covers basic principles of machine learning, computer vision, and natural language processing, as well as how to use Azure services—such as Azure Machine Learning, Cognitive Services, and more—to create AI-based solutions.\n",
    "\n",
    "Below are some simple suggestions to help you get started:\n",
    "\n",
    "1. Review the Official Microsoft Documentation – Familiarize yourself with the exam objectives and recommended learning paths on Microsoft’s website.\n",
    "2. Hands-On Practice – Use Azure free trials to experiment with services like Azure Machine Learning Studio or Azure Cognitive Services.\n",
    "3. Take Practice Exams – Try sample questions and practice tests to gauge your readiness and identify areas for improvement.\n",
    "4. This certification is an excellent starting point for anyone looking to pursue a career in AI or machine learning within the Azure ecosystem.\n",
    "\n",
    "\n",
    "''' \n",
    "\n",
    "# Write the solution defitions out to the solution_description.md file\n",
    "file_name = \"solution_description.md\"\n",
    "with open(file_name, 'a',  encoding='utf-8') as f:\n",
    "    # Write the template to the readme.md file\n",
    "     f.write(definition)\n",
    "\n",
    "display(Markdown(definition))   "
   ]
  },
  {
   "cell_type": "code",
   "execution_count": null,
   "id": "3d3c500b",
   "metadata": {},
   "outputs": [],
   "source": []
  },
  {
   "cell_type": "code",
   "execution_count": null,
   "id": "cca3df0e",
   "metadata": {},
   "outputs": [],
   "source": []
  },
  {
   "cell_type": "code",
   "execution_count": null,
   "id": "930079c3",
   "metadata": {},
   "outputs": [],
   "source": []
  },
  {
   "cell_type": "code",
   "execution_count": null,
   "id": "75d3b5ea",
   "metadata": {},
   "outputs": [],
   "source": []
  },
  {
   "cell_type": "code",
   "execution_count": null,
   "id": "756b3f0e",
   "metadata": {},
   "outputs": [],
   "source": []
  },
  {
   "cell_type": "code",
   "execution_count": null,
   "id": "20e90be4",
   "metadata": {},
   "outputs": [],
   "source": []
  },
  {
   "cell_type": "code",
   "execution_count": null,
   "id": "ba2ec2cf",
   "metadata": {},
   "outputs": [],
   "source": []
  },
  {
   "cell_type": "code",
   "execution_count": null,
   "id": "01b5b2f8",
   "metadata": {},
   "outputs": [],
   "source": []
  },
  {
   "cell_type": "code",
   "execution_count": null,
   "id": "b5670c3d",
   "metadata": {},
   "outputs": [],
   "source": []
  },
  {
   "cell_type": "code",
   "execution_count": null,
   "id": "590c9657",
   "metadata": {},
   "outputs": [],
   "source": []
  },
  {
   "cell_type": "code",
   "execution_count": null,
   "id": "079af1a4",
   "metadata": {},
   "outputs": [],
   "source": []
  },
  {
   "cell_type": "code",
   "execution_count": null,
   "id": "f2d80a31",
   "metadata": {},
   "outputs": [],
   "source": []
  },
  {
   "cell_type": "code",
   "execution_count": null,
   "id": "1ef664b3",
   "metadata": {},
   "outputs": [],
   "source": []
  },
  {
   "cell_type": "code",
   "execution_count": null,
   "id": "e5182dc0",
   "metadata": {},
   "outputs": [],
   "source": []
  },
  {
   "cell_type": "code",
   "execution_count": null,
   "id": "b0ba2941",
   "metadata": {},
   "outputs": [],
   "source": []
  },
  {
   "cell_type": "code",
   "execution_count": null,
   "id": "cf16dd73",
   "metadata": {},
   "outputs": [],
   "source": []
  },
  {
   "cell_type": "code",
   "execution_count": null,
   "id": "1bbc85fc",
   "metadata": {},
   "outputs": [],
   "source": []
  },
  {
   "cell_type": "code",
   "execution_count": null,
   "id": "5f42f4c9",
   "metadata": {},
   "outputs": [],
   "source": []
  },
  {
   "cell_type": "code",
   "execution_count": null,
   "id": "fb26f319",
   "metadata": {},
   "outputs": [],
   "source": []
  },
  {
   "cell_type": "code",
   "execution_count": null,
   "id": "94679011",
   "metadata": {},
   "outputs": [],
   "source": []
  },
  {
   "cell_type": "code",
   "execution_count": null,
   "id": "c5e03bba",
   "metadata": {},
   "outputs": [],
   "source": []
  },
  {
   "cell_type": "code",
   "execution_count": null,
   "id": "838512ba",
   "metadata": {},
   "outputs": [],
   "source": []
  },
  {
   "cell_type": "code",
   "execution_count": null,
   "id": "88091e6b",
   "metadata": {},
   "outputs": [],
   "source": []
  },
  {
   "cell_type": "code",
   "execution_count": null,
   "id": "88125ae5",
   "metadata": {},
   "outputs": [],
   "source": []
  },
  {
   "cell_type": "markdown",
   "id": "72244be9",
   "metadata": {},
   "source": [
    "## Step 0 - Process End - display log"
   ]
  },
  {
   "cell_type": "code",
   "execution_count": 13,
   "id": "134074a1",
   "metadata": {},
   "outputs": [
    {
     "name": "stdout",
     "output_type": "stream",
     "text": [
      "2024-12-23 13:07:39,669 - INFO - START microsoft_azure =============================================\n",
      "2024-12-23 13:07:39,669 - INFO - START microsoft_azure Start Time = 2024-12-23 13:07:39\n",
      "2024-12-23 13:07:39,669 - INFO - microsoft_azure Step 0 - Initialize the configuration file parser\n",
      "2024-12-23 13:07:39,669 - INFO - Process microsoft_azure Step 0 - Initializing and starting Logging Process.\n",
      "2024-12-23 13:07:39,748 - INFO - PERFORMANCE microsoft_azure The total process duration was:0.08\n",
      "2024-12-23 13:07:39,748 - INFO - PERFORMANCE microsoft_azure Stop Time = 2024-12-23 13:07:39\n",
      "2024-12-23 13:07:39,749 - INFO - PERFORMANCE microsoft_azure Short process duration less than 3 Seconds:0.08\n",
      "2024-12-23 13:07:39,749 - INFO - PERFORMANCE microsoft_azure Performance optimization is not reccomended\n",
      "2024-12-23 13:07:39,749 - INFO - END microsoft_azure =============================================\n",
      "\n"
     ]
    }
   ],
   "source": [
    "# Calculate and classify the process performance \n",
    "status = ql.calculate_process_performance(solution_name, start_time) \n",
    "print(ql.append_log_file(solution_name))  "
   ]
  },
  {
   "cell_type": "markdown",
   "id": "fcf97414",
   "metadata": {},
   "source": [
    "#### https://github.com/JoeEberle/ -- josepheberle@outlook.com"
   ]
  }
 ],
 "metadata": {
  "kernelspec": {
   "display_name": "Python 3 (ipykernel)",
   "language": "python",
   "name": "python3"
  },
  "language_info": {
   "codemirror_mode": {
    "name": "ipython",
    "version": 3
   },
   "file_extension": ".py",
   "mimetype": "text/x-python",
   "name": "python",
   "nbconvert_exporter": "python",
   "pygments_lexer": "ipython3",
   "version": "3.11.5"
  }
 },
 "nbformat": 4,
 "nbformat_minor": 5
}
